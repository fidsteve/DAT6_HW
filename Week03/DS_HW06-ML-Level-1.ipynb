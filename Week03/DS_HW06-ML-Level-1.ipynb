{
 "metadata": {
  "name": "",
  "signature": "sha256:9e802be6b7892b6ac9c2dea5528f758b6565cb799964c19339eda9627238caa1"
 },
 "nbformat": 3,
 "nbformat_minor": 0,
 "worksheets": [
  {
   "cells": [
    {
     "cell_type": "markdown",
     "metadata": {},
     "source": [
      "Homework Solution\n",
      "===================\n",
      "ML/Statistics - Level 1\n",
      "-------------------\n",
      "DAT6"
     ]
    },
    {
     "cell_type": "markdown",
     "metadata": {},
     "source": [
      "###Using the enron.db \n",
      "1. Select a DataFrame containing the recipient count (as before) and the department of the sender for each message.\n",
      "2. Create a histogram of the recipient count.\n",
      "3. Create a new column based on the log of the recipient count.\n",
      "4. Create a histogram of that log.\n",
      "5. Create a boxplot of the log, splitting the data based on the department of the sender.\n",
      "6. Compute the sample mean and standard deviation of the log in the three groups.\n",
      "7. Compute a 95% confidence interval for the difference in recipient count between the three groups.\n",
      "8. At level \u03b1=5%, test the null hypothesis that the average recipient count does not differ between the three groups. 9. What assumptions are you making? What can you conclude?"
     ]
    },
    {
     "cell_type": "code",
     "collapsed": false,
     "input": [
      "%matplotlib inline\n",
      "\n",
      "import numpy as np\n",
      "import pandas as pd\n",
      "import statsmodels.api as sm\n",
      "import statsmodels.formula.api as smf\n",
      "import sqlite3\n",
      "from pandas.io import sql\n",
      "\n",
      "\n",
      "conn = sqlite3.connect('../data/enron.db')"
     ],
     "language": "python",
     "metadata": {},
     "outputs": [],
     "prompt_number": 2
    },
    {
     "cell_type": "markdown",
     "metadata": {},
     "source": [
      "###1. Select a DataFrame containing the recipient count (as before) and the department of the sender for each message."
     ]
    },
    {
     "cell_type": "code",
     "collapsed": false,
     "input": [
      "recipient_department = sql.frame_query(\"\"\"SELECT mid, MAX(rno) AS recipient_count, department \n",
      "    FROM EmployeeBase \n",
      "    JOIN MessageBase ON eid = from_eid \n",
      "    JOIN RecipientBase USING (mid)\n",
      "    GROUP BY mid\"\"\", conn, \"mid\")"
     ],
     "language": "python",
     "metadata": {},
     "outputs": [],
     "prompt_number": 6
    },
    {
     "cell_type": "code",
     "collapsed": false,
     "input": [
      "recipient_department.groupby(recipient_department.department).sum()"
     ],
     "language": "python",
     "metadata": {},
     "outputs": [
      {
       "html": [
        "<div style=\"max-height:1000px;max-width:1500px;overflow:auto;\">\n",
        "<table border=\"1\" class=\"dataframe\">\n",
        "  <thead>\n",
        "    <tr style=\"text-align: right;\">\n",
        "      <th></th>\n",
        "      <th>recipient_count</th>\n",
        "    </tr>\n",
        "    <tr>\n",
        "      <th>department</th>\n",
        "      <th></th>\n",
        "    </tr>\n",
        "  </thead>\n",
        "  <tbody>\n",
        "    <tr>\n",
        "      <th>Legal</th>\n",
        "      <td> 19292</td>\n",
        "    </tr>\n",
        "    <tr>\n",
        "      <th>Other</th>\n",
        "      <td> 11984</td>\n",
        "    </tr>\n",
        "    <tr>\n",
        "      <th>Trading</th>\n",
        "      <td>  7112</td>\n",
        "    </tr>\n",
        "  </tbody>\n",
        "</table>\n",
        "<p>3 rows \u00d7 1 columns</p>\n",
        "</div>"
       ],
       "metadata": {},
       "output_type": "pyout",
       "prompt_number": 12,
       "text": [
        "            recipient_count\n",
        "department                 \n",
        "Legal                 19292\n",
        "Other                 11984\n",
        "Trading                7112\n",
        "\n",
        "[3 rows x 1 columns]"
       ]
      }
     ],
     "prompt_number": 12
    },
    {
     "cell_type": "markdown",
     "metadata": {},
     "source": [
      "###2. Create a histogram of the recipient count."
     ]
    },
    {
     "cell_type": "code",
     "collapsed": false,
     "input": [
      "recipient_department.recipient_count.groupby(recipient_department.department).hist(alpha=.5)"
     ],
     "language": "python",
     "metadata": {},
     "outputs": [
      {
       "metadata": {},
       "output_type": "pyout",
       "prompt_number": 19,
       "text": [
        "department\n",
        "Legal         Axes(0.125,0.125;0.775x0.775)\n",
        "Other         Axes(0.125,0.125;0.775x0.775)\n",
        "Trading       Axes(0.125,0.125;0.775x0.775)\n",
        "dtype: object"
       ]
      },
      {
       "metadata": {},
       "output_type": "display_data",
       "png": "[encoded data removed]",
       "text": [
        "<matplotlib.figure.Figure at 0x10c569290>"
       ]
      }
     ],
     "prompt_number": 19
    },
    {
     "cell_type": "code",
     "collapsed": false,
     "input": [
      "recipient_department.recipient_count.hist(by=recipient_department.department,alpha=.5)"
     ],
     "language": "python",
     "metadata": {},
     "outputs": [
      {
       "metadata": {},
       "output_type": "pyout",
       "prompt_number": 20,
       "text": [
        "array([[<matplotlib.axes.AxesSubplot object at 0x10c508fd0>,\n",
        "        <matplotlib.axes.AxesSubplot object at 0x10c5aff50>],\n",
        "       [<matplotlib.axes.AxesSubplot object at 0x10c69fb90>,\n",
        "        <matplotlib.axes.AxesSubplot object at 0x10c6bdf90>]], dtype=object)"
       ]
      },
      {
       "metadata": {},
       "output_type": "display_data",
       "png": "[encoded data removed]",
       "text": [
        "<matplotlib.figure.Figure at 0x10c5a7a50>"
       ]
      }
     ],
     "prompt_number": 20
    },
    {
     "cell_type": "markdown",
     "metadata": {},
     "source": [
      "###3. Create a new column based on the log of the recipient count."
     ]
    },
    {
     "cell_type": "code",
     "collapsed": false,
     "input": [
      "recipient_department['r_count_log']=recipient_department.recipient_count.map(np.log)\n",
      "recipient_department.head()"
     ],
     "language": "python",
     "metadata": {},
     "outputs": [
      {
       "html": [
        "<div style=\"max-height:1000px;max-width:1500px;overflow:auto;\">\n",
        "<table border=\"1\" class=\"dataframe\">\n",
        "  <thead>\n",
        "    <tr style=\"text-align: right;\">\n",
        "      <th></th>\n",
        "      <th>recipient_count</th>\n",
        "      <th>department</th>\n",
        "      <th>r_count_log</th>\n",
        "    </tr>\n",
        "    <tr>\n",
        "      <th>mid</th>\n",
        "      <th></th>\n",
        "      <th></th>\n",
        "      <th></th>\n",
        "    </tr>\n",
        "  </thead>\n",
        "  <tbody>\n",
        "    <tr>\n",
        "      <th>1</th>\n",
        "      <td> 1</td>\n",
        "      <td> Legal</td>\n",
        "      <td> 0.000000</td>\n",
        "    </tr>\n",
        "    <tr>\n",
        "      <th>2</th>\n",
        "      <td> 1</td>\n",
        "      <td> Legal</td>\n",
        "      <td> 0.000000</td>\n",
        "    </tr>\n",
        "    <tr>\n",
        "      <th>3</th>\n",
        "      <td> 1</td>\n",
        "      <td> Legal</td>\n",
        "      <td> 0.000000</td>\n",
        "    </tr>\n",
        "    <tr>\n",
        "      <th>4</th>\n",
        "      <td> 4</td>\n",
        "      <td> Legal</td>\n",
        "      <td> 1.386294</td>\n",
        "    </tr>\n",
        "    <tr>\n",
        "      <th>5</th>\n",
        "      <td> 2</td>\n",
        "      <td> Legal</td>\n",
        "      <td> 0.693147</td>\n",
        "    </tr>\n",
        "  </tbody>\n",
        "</table>\n",
        "<p>5 rows \u00d7 3 columns</p>\n",
        "</div>"
       ],
       "metadata": {},
       "output_type": "pyout",
       "prompt_number": 22,
       "text": [
        "     recipient_count department  r_count_log\n",
        "mid                                         \n",
        "1                  1      Legal     0.000000\n",
        "2                  1      Legal     0.000000\n",
        "3                  1      Legal     0.000000\n",
        "4                  4      Legal     1.386294\n",
        "5                  2      Legal     0.693147\n",
        "\n",
        "[5 rows x 3 columns]"
       ]
      }
     ],
     "prompt_number": 22
    },
    {
     "cell_type": "markdown",
     "metadata": {},
     "source": [
      "###4. Create a histogram of that log."
     ]
    },
    {
     "cell_type": "code",
     "collapsed": false,
     "input": [
      "recipient_department.r_count_log .hist(by=recipient_department.department,alpha=.5)"
     ],
     "language": "python",
     "metadata": {},
     "outputs": [
      {
       "metadata": {},
       "output_type": "pyout",
       "prompt_number": 23,
       "text": [
        "array([[<matplotlib.axes.AxesSubplot object at 0x10cdf8590>,\n",
        "        <matplotlib.axes.AxesSubplot object at 0x10d759dd0>],\n",
        "       [<matplotlib.axes.AxesSubplot object at 0x10d77da10>,\n",
        "        <matplotlib.axes.AxesSubplot object at 0x10d79ce10>]], dtype=object)"
       ]
      },
      {
       "metadata": {},
       "output_type": "display_data",
       "png": "[encoded data removed]",
       "text": [
        "<matplotlib.figure.Figure at 0x1023911d0>"
       ]
      }
     ],
     "prompt_number": 23
    },
    {
     "cell_type": "markdown",
     "metadata": {},
     "source": [
      "###5. Create a boxplot of the log, splitting the data based on the department of the sender."
     ]
    },
    {
     "cell_type": "code",
     "collapsed": false,
     "input": [
      "recipient_department.boxplot(column=\"r_count_log\", by=\"department\")"
     ],
     "language": "python",
     "metadata": {},
     "outputs": [
      {
       "metadata": {},
       "output_type": "pyout",
       "prompt_number": 32,
       "text": [
        "<matplotlib.axes.AxesSubplot at 0x10cb12b10>"
       ]
      },
      {
       "metadata": {},
       "output_type": "display_data",
       "png": "[encoded data removed]",
       "text": [
        "<matplotlib.figure.Figure at 0x10e743c90>"
       ]
      }
     ],
     "prompt_number": 32
    },
    {
     "cell_type": "markdown",
     "metadata": {},
     "source": [
      "###6. Compute the sample mean and standard deviation of the log in the three groups."
     ]
    },
    {
     "cell_type": "code",
     "collapsed": false,
     "input": [
      "recipient_department.groupby(recipient_department.department).r_count_log.describe().unstack()"
     ],
     "language": "python",
     "metadata": {},
     "outputs": [
      {
       "html": [
        "<div style=\"max-height:1000px;max-width:1500px;overflow:auto;\">\n",
        "<table border=\"1\" class=\"dataframe\">\n",
        "  <thead>\n",
        "    <tr style=\"text-align: right;\">\n",
        "      <th></th>\n",
        "      <th>count</th>\n",
        "      <th>mean</th>\n",
        "      <th>std</th>\n",
        "      <th>min</th>\n",
        "      <th>25%</th>\n",
        "      <th>50%</th>\n",
        "      <th>75%</th>\n",
        "      <th>max</th>\n",
        "    </tr>\n",
        "    <tr>\n",
        "      <th>department</th>\n",
        "      <th></th>\n",
        "      <th></th>\n",
        "      <th></th>\n",
        "      <th></th>\n",
        "      <th></th>\n",
        "      <th></th>\n",
        "      <th></th>\n",
        "      <th></th>\n",
        "    </tr>\n",
        "  </thead>\n",
        "  <tbody>\n",
        "    <tr>\n",
        "      <th>Legal</th>\n",
        "      <td> 10396</td>\n",
        "      <td> 0.401037</td>\n",
        "      <td> 0.593603</td>\n",
        "      <td> 0</td>\n",
        "      <td> 0</td>\n",
        "      <td> 0</td>\n",
        "      <td> 0.693147</td>\n",
        "      <td> 3.044522</td>\n",
        "    </tr>\n",
        "    <tr>\n",
        "      <th>Other</th>\n",
        "      <td>  6852</td>\n",
        "      <td> 0.307250</td>\n",
        "      <td> 0.578159</td>\n",
        "      <td> 0</td>\n",
        "      <td> 0</td>\n",
        "      <td> 0</td>\n",
        "      <td> 0.693147</td>\n",
        "      <td> 4.043051</td>\n",
        "    </tr>\n",
        "    <tr>\n",
        "      <th>Trading</th>\n",
        "      <td>  4387</td>\n",
        "      <td> 0.259529</td>\n",
        "      <td> 0.532759</td>\n",
        "      <td> 0</td>\n",
        "      <td> 0</td>\n",
        "      <td> 0</td>\n",
        "      <td> 0.000000</td>\n",
        "      <td> 2.995732</td>\n",
        "    </tr>\n",
        "  </tbody>\n",
        "</table>\n",
        "<p>3 rows \u00d7 8 columns</p>\n",
        "</div>"
       ],
       "metadata": {},
       "output_type": "pyout",
       "prompt_number": 38,
       "text": [
        "            count      mean       std  min  25%  50%       75%       max\n",
        "department                                                              \n",
        "Legal       10396  0.401037  0.593603    0    0    0  0.693147  3.044522\n",
        "Other        6852  0.307250  0.578159    0    0    0  0.693147  4.043051\n",
        "Trading      4387  0.259529  0.532759    0    0    0  0.000000  2.995732\n",
        "\n",
        "[3 rows x 8 columns]"
       ]
      }
     ],
     "prompt_number": 38
    },
    {
     "cell_type": "markdown",
     "metadata": {},
     "source": [
      "###7. Compute a 95% confidence interval for the difference in recipient count between the three groups.\n"
     ]
    },
    {
     "cell_type": "code",
     "collapsed": false,
     "input": [
      "mod_rc_d = smf.glm(formula='recipient_count ~ department', data=spammers).fit()\n",
      "mod_rc_d.summary(alpha = .05)"
     ],
     "language": "python",
     "metadata": {},
     "outputs": [
      {
       "html": [
        "<table class=\"simpletable\">\n",
        "<caption>Generalized Linear Model Regression Results</caption>\n",
        "<tr>\n",
        "  <th>Dep. Variable:</th>   <td>recipient_count</td> <th>  No. Observations:  </th>    <td> 21635</td>    \n",
        "</tr>\n",
        "<tr>\n",
        "  <th>Model:</th>                 <td>GLM</td>       <th>  Df Residuals:      </th>    <td> 21632</td>    \n",
        "</tr>\n",
        "<tr>\n",
        "  <th>Model Family:</th>       <td>Gaussian</td>     <th>  Df Model:          </th>    <td>     2</td>    \n",
        "</tr>\n",
        "<tr>\n",
        "  <th>Link Function:</th>      <td>identity</td>     <th>  Scale:             </th> <td>3.51877636911</td>\n",
        "</tr>\n",
        "<tr>\n",
        "  <th>Method:</th>               <td>IRLS</td>       <th>  Log-Likelihood:    </th>   <td> -44307.</td>   \n",
        "</tr>\n",
        "<tr>\n",
        "  <th>Date:</th>           <td>Mon, 19 May 2014</td> <th>  Deviance:          </th>   <td>  76118.</td>   \n",
        "</tr>\n",
        "<tr>\n",
        "  <th>Time:</th>               <td>00:08:16</td>     <th>  Pearson chi2:      </th>   <td>7.61e+04</td>   \n",
        "</tr>\n",
        "<tr>\n",
        "  <th>No. Iterations:</th>         <td>3</td>        <th>                     </th>       <td> </td>      \n",
        "</tr>\n",
        "</table>\n",
        "<table class=\"simpletable\">\n",
        "<tr>\n",
        "            <td></td>               <th>coef</th>     <th>std err</th>      <th>t</th>      <th>P>|t|</th> <th>[95.0% Conf. Int.]</th> \n",
        "</tr>\n",
        "<tr>\n",
        "  <th>Intercept</th>             <td>    1.8557</td> <td>    0.018</td> <td>  100.867</td> <td> 0.000</td> <td>    1.820     1.892</td>\n",
        "</tr>\n",
        "<tr>\n",
        "  <th>department[T.Other]</th>   <td>   -0.1067</td> <td>    0.029</td> <td>   -3.657</td> <td> 0.000</td> <td>   -0.164    -0.050</td>\n",
        "</tr>\n",
        "<tr>\n",
        "  <th>department[T.Trading]</th> <td>   -0.2346</td> <td>    0.034</td> <td>   -6.945</td> <td> 0.000</td> <td>   -0.301    -0.168</td>\n",
        "</tr>\n",
        "</table>"
       ],
       "metadata": {},
       "output_type": "pyout",
       "prompt_number": 48,
       "text": [
        "<class 'statsmodels.iolib.summary.Summary'>\n",
        "\"\"\"\n",
        "                 Generalized Linear Model Regression Results                  \n",
        "==============================================================================\n",
        "Dep. Variable:        recipient_count   No. Observations:                21635\n",
        "Model:                            GLM   Df Residuals:                    21632\n",
        "Model Family:                Gaussian   Df Model:                            2\n",
        "Link Function:               identity   Scale:                   3.51877636911\n",
        "Method:                          IRLS   Log-Likelihood:                -44307.\n",
        "Date:                Mon, 19 May 2014   Deviance:                       76118.\n",
        "Time:                        00:08:16   Pearson chi2:                 7.61e+04\n",
        "No. Iterations:                     3                                         \n",
        "=========================================================================================\n",
        "                            coef    std err          t      P>|t|      [95.0% Conf. Int.]\n",
        "-----------------------------------------------------------------------------------------\n",
        "Intercept                 1.8557      0.018    100.867      0.000         1.820     1.892\n",
        "department[T.Other]      -0.1067      0.029     -3.657      0.000        -0.164    -0.050\n",
        "department[T.Trading]    -0.2346      0.034     -6.945      0.000        -0.301    -0.168\n",
        "=========================================================================================\n",
        "\"\"\""
       ]
      }
     ],
     "prompt_number": 48
    },
    {
     "cell_type": "markdown",
     "metadata": {},
     "source": [
      "###8. At level \u03b1=5%, test the null hypothesis that the average recipient count does not differ between the three groups. \n"
     ]
    },
    {
     "cell_type": "code",
     "collapsed": false,
     "input": [
      "mod_legal = smf.glm(formula='recipient_count ~ department == \"Legal\"', data=spammers).fit()\n",
      "mod_legal.summary(alpha = .05)"
     ],
     "language": "python",
     "metadata": {},
     "outputs": [
      {
       "html": [
        "<table class=\"simpletable\">\n",
        "<caption>Generalized Linear Model Regression Results</caption>\n",
        "<tr>\n",
        "  <th>Dep. Variable:</th>   <td>recipient_count</td> <th>  No. Observations:  </th>    <td> 21635</td>    \n",
        "</tr>\n",
        "<tr>\n",
        "  <th>Model:</th>                 <td>GLM</td>       <th>  Df Residuals:      </th>    <td> 21633</td>    \n",
        "</tr>\n",
        "<tr>\n",
        "  <th>Model Family:</th>       <td>Gaussian</td>     <th>  Df Model:          </th>    <td>     1</td>    \n",
        "</tr>\n",
        "<tr>\n",
        "  <th>Link Function:</th>      <td>identity</td>     <th>  Scale:             </th> <td>3.52063380782</td>\n",
        "</tr>\n",
        "<tr>\n",
        "  <th>Method:</th>               <td>IRLS</td>       <th>  Log-Likelihood:    </th>   <td> -44313.</td>   \n",
        "</tr>\n",
        "<tr>\n",
        "  <th>Date:</th>           <td>Sun, 18 May 2014</td> <th>  Deviance:          </th>   <td>  76162.</td>   \n",
        "</tr>\n",
        "<tr>\n",
        "  <th>Time:</th>               <td>23:52:49</td>     <th>  Pearson chi2:      </th>   <td>7.62e+04</td>   \n",
        "</tr>\n",
        "<tr>\n",
        "  <th>No. Iterations:</th>         <td>3</td>        <th>                     </th>       <td> </td>      \n",
        "</tr>\n",
        "</table>\n",
        "<table class=\"simpletable\">\n",
        "<tr>\n",
        "                <td></td>                   <th>coef</th>     <th>std err</th>      <th>t</th>      <th>P>|t|</th> <th>[95.0% Conf. Int.]</th> \n",
        "</tr>\n",
        "<tr>\n",
        "  <th>Intercept</th>                     <td>    1.6991</td> <td>    0.018</td> <td>   95.999</td> <td> 0.000</td> <td>    1.664     1.734</td>\n",
        "</tr>\n",
        "<tr>\n",
        "  <th>department == \"Legal\"[T.True]</th> <td>    0.1566</td> <td>    0.026</td> <td>    6.135</td> <td> 0.000</td> <td>    0.107     0.207</td>\n",
        "</tr>\n",
        "</table>"
       ],
       "metadata": {},
       "output_type": "pyout",
       "prompt_number": 39,
       "text": [
        "<class 'statsmodels.iolib.summary.Summary'>\n",
        "\"\"\"\n",
        "                 Generalized Linear Model Regression Results                  \n",
        "==============================================================================\n",
        "Dep. Variable:        recipient_count   No. Observations:                21635\n",
        "Model:                            GLM   Df Residuals:                    21633\n",
        "Model Family:                Gaussian   Df Model:                            1\n",
        "Link Function:               identity   Scale:                   3.52063380782\n",
        "Method:                          IRLS   Log-Likelihood:                -44313.\n",
        "Date:                Sun, 18 May 2014   Deviance:                       76162.\n",
        "Time:                        23:52:49   Pearson chi2:                 7.62e+04\n",
        "No. Iterations:                     3                                         \n",
        "=================================================================================================\n",
        "                                    coef    std err          t      P>|t|      [95.0% Conf. Int.]\n",
        "-------------------------------------------------------------------------------------------------\n",
        "Intercept                         1.6991      0.018     95.999      0.000         1.664     1.734\n",
        "department == \"Legal\"[T.True]     0.1566      0.026      6.135      0.000         0.107     0.207\n",
        "=================================================================================================\n",
        "\"\"\""
       ]
      }
     ],
     "prompt_number": 39
    },
    {
     "cell_type": "code",
     "collapsed": false,
     "input": [
      "mod_trading = smf.glm(formula='recipient_count ~ department == \"Trading\"', data=spammers).fit()\n",
      "mod_trading.summary(alpha = .05)"
     ],
     "language": "python",
     "metadata": {},
     "outputs": [
      {
       "html": [
        "<table class=\"simpletable\">\n",
        "<caption>Generalized Linear Model Regression Results</caption>\n",
        "<tr>\n",
        "  <th>Dep. Variable:</th>   <td>recipient_count</td> <th>  No. Observations:  </th>    <td> 21635</td>    \n",
        "</tr>\n",
        "<tr>\n",
        "  <th>Model:</th>                 <td>GLM</td>       <th>  Df Residuals:      </th>    <td> 21633</td>    \n",
        "</tr>\n",
        "<tr>\n",
        "  <th>Model Family:</th>       <td>Gaussian</td>     <th>  Df Model:          </th>    <td>     1</td>    \n",
        "</tr>\n",
        "<tr>\n",
        "  <th>Link Function:</th>      <td>identity</td>     <th>  Scale:             </th> <td>3.52078863774</td>\n",
        "</tr>\n",
        "<tr>\n",
        "  <th>Method:</th>               <td>IRLS</td>       <th>  Log-Likelihood:    </th>   <td> -44314.</td>   \n",
        "</tr>\n",
        "<tr>\n",
        "  <th>Date:</th>           <td>Sun, 18 May 2014</td> <th>  Deviance:          </th>   <td>  76165.</td>   \n",
        "</tr>\n",
        "<tr>\n",
        "  <th>Time:</th>               <td>23:53:29</td>     <th>  Pearson chi2:      </th>   <td>7.62e+04</td>   \n",
        "</tr>\n",
        "<tr>\n",
        "  <th>No. Iterations:</th>         <td>3</td>        <th>                     </th>       <td> </td>      \n",
        "</tr>\n",
        "</table>\n",
        "<table class=\"simpletable\">\n",
        "<tr>\n",
        "                 <td></td>                    <th>coef</th>     <th>std err</th>      <th>t</th>      <th>P>|t|</th> <th>[95.0% Conf. Int.]</th> \n",
        "</tr>\n",
        "<tr>\n",
        "  <th>Intercept</th>                       <td>    1.8133</td> <td>    0.014</td> <td>  126.918</td> <td> 0.000</td> <td>    1.785     1.841</td>\n",
        "</tr>\n",
        "<tr>\n",
        "  <th>department == \"Trading\"[T.True]</th> <td>   -0.1922</td> <td>    0.032</td> <td>   -6.056</td> <td> 0.000</td> <td>   -0.254    -0.130</td>\n",
        "</tr>\n",
        "</table>"
       ],
       "metadata": {},
       "output_type": "pyout",
       "prompt_number": 41,
       "text": [
        "<class 'statsmodels.iolib.summary.Summary'>\n",
        "\"\"\"\n",
        "                 Generalized Linear Model Regression Results                  \n",
        "==============================================================================\n",
        "Dep. Variable:        recipient_count   No. Observations:                21635\n",
        "Model:                            GLM   Df Residuals:                    21633\n",
        "Model Family:                Gaussian   Df Model:                            1\n",
        "Link Function:               identity   Scale:                   3.52078863774\n",
        "Method:                          IRLS   Log-Likelihood:                -44314.\n",
        "Date:                Sun, 18 May 2014   Deviance:                       76165.\n",
        "Time:                        23:53:29   Pearson chi2:                 7.62e+04\n",
        "No. Iterations:                     3                                         \n",
        "===================================================================================================\n",
        "                                      coef    std err          t      P>|t|      [95.0% Conf. Int.]\n",
        "---------------------------------------------------------------------------------------------------\n",
        "Intercept                           1.8133      0.014    126.918      0.000         1.785     1.841\n",
        "department == \"Trading\"[T.True]    -0.1922      0.032     -6.056      0.000        -0.254    -0.130\n",
        "===================================================================================================\n",
        "\"\"\""
       ]
      }
     ],
     "prompt_number": 41
    },
    {
     "cell_type": "code",
     "collapsed": false,
     "input": [
      "mod_other = smf.glm(formula='recipient_count ~ department == \"Other\"', data=spammers).fit()\n",
      "mod_other.summary(alpha = .05)\n"
     ],
     "language": "python",
     "metadata": {},
     "outputs": [
      {
       "html": [
        "<table class=\"simpletable\">\n",
        "<caption>Generalized Linear Model Regression Results</caption>\n",
        "<tr>\n",
        "  <th>Dep. Variable:</th>   <td>recipient_count</td> <th>  No. Observations:  </th>    <td> 21635</td>    \n",
        "</tr>\n",
        "<tr>\n",
        "  <th>Model:</th>                 <td>GLM</td>       <th>  Df Residuals:      </th>    <td> 21633</td>    \n",
        "</tr>\n",
        "<tr>\n",
        "  <th>Model Family:</th>       <td>Gaussian</td>     <th>  Df Model:          </th>    <td>     1</td>    \n",
        "</tr>\n",
        "<tr>\n",
        "  <th>Link Function:</th>      <td>identity</td>     <th>  Scale:             </th> <td>3.52645998945</td>\n",
        "</tr>\n",
        "<tr>\n",
        "  <th>Method:</th>               <td>IRLS</td>       <th>  Log-Likelihood:    </th>   <td> -44331.</td>   \n",
        "</tr>\n",
        "<tr>\n",
        "  <th>Date:</th>           <td>Mon, 19 May 2014</td> <th>  Deviance:          </th>   <td>  76288.</td>   \n",
        "</tr>\n",
        "<tr>\n",
        "  <th>Time:</th>               <td>00:00:18</td>     <th>  Pearson chi2:      </th>   <td>7.63e+04</td>   \n",
        "</tr>\n",
        "<tr>\n",
        "  <th>No. Iterations:</th>         <td>3</td>        <th>                     </th>       <td> </td>      \n",
        "</tr>\n",
        "</table>\n",
        "<table class=\"simpletable\">\n",
        "<tr>\n",
        "                <td></td>                   <th>coef</th>     <th>std err</th>      <th>t</th>      <th>P>|t|</th> <th>[95.0% Conf. Int.]</th> \n",
        "</tr>\n",
        "<tr>\n",
        "  <th>Intercept</th>                     <td>    1.7861</td> <td>    0.015</td> <td>  115.643</td> <td> 0.000</td> <td>    1.756     1.816</td>\n",
        "</tr>\n",
        "<tr>\n",
        "  <th>department == \"Other\"[T.True]</th> <td>   -0.0371</td> <td>    0.027</td> <td>   -1.353</td> <td> 0.176</td> <td>   -0.091     0.017</td>\n",
        "</tr>\n",
        "</table>"
       ],
       "metadata": {},
       "output_type": "pyout",
       "prompt_number": 47,
       "text": [
        "<class 'statsmodels.iolib.summary.Summary'>\n",
        "\"\"\"\n",
        "                 Generalized Linear Model Regression Results                  \n",
        "==============================================================================\n",
        "Dep. Variable:        recipient_count   No. Observations:                21635\n",
        "Model:                            GLM   Df Residuals:                    21633\n",
        "Model Family:                Gaussian   Df Model:                            1\n",
        "Link Function:               identity   Scale:                   3.52645998945\n",
        "Method:                          IRLS   Log-Likelihood:                -44331.\n",
        "Date:                Mon, 19 May 2014   Deviance:                       76288.\n",
        "Time:                        00:00:18   Pearson chi2:                 7.63e+04\n",
        "No. Iterations:                     3                                         \n",
        "=================================================================================================\n",
        "                                    coef    std err          t      P>|t|      [95.0% Conf. Int.]\n",
        "-------------------------------------------------------------------------------------------------\n",
        "Intercept                         1.7861      0.015    115.643      0.000         1.756     1.816\n",
        "department == \"Other\"[T.True]    -0.0371      0.027     -1.353      0.176        -0.091     0.017\n",
        "=================================================================================================\n",
        "\"\"\""
       ]
      }
     ],
     "prompt_number": 47
    },
    {
     "cell_type": "markdown",
     "metadata": {},
     "source": [
      "###9. What assumptions are you making? What can you conclude?"
     ]
    },
    {
     "cell_type": "code",
     "collapsed": false,
     "input": [],
     "language": "python",
     "metadata": {},
     "outputs": []
    }
   ],
   "metadata": {}
  }
 ]
}