{
 "metadata": {
  "name": "",
  "signature": "sha256:79c9aad2f4c8d6746740d708e7f9fb04b56c55211facbc96668d5670692f84fa"
 },
 "nbformat": 3,
 "nbformat_minor": 0,
 "worksheets": [
  {
   "cells": [
    {
     "cell_type": "markdown",
     "metadata": {},
     "source": [
      "Homework Solution\n",
      "===================\n",
      "Statistics A\n",
      "-------------------\n",
      "DAT6"
     ]
    },
    {
     "cell_type": "markdown",
     "metadata": {},
     "source": [
      "### Use enron.db from Week02\n",
      "1. Create a boxplot of the message recipient count (MAX(rno)), splitting the data based on the seniority of the sender.\n",
      "2. Compute the sample mean and standard deviation in the two groups.\n",
      "3. Create a histogram of the recipient count within each group.\n",
      "4. Compute a 90% confidence interval for the difference in supervisor performance between the two groups. What is a problem with this? How might you fix it?\n",
      "5. At level \u03b1=5%, test the null hypothesis that the average supervisor performance does not differ between the two groups. What assumptions are you making? What can you conclude?\n",
      "6. Repeat the test in 5. using OLS."
     ]
    },
    {
     "cell_type": "code",
     "collapsed": false,
     "input": [
      "%matplotlib inline\n",
      "\n",
      "import numpy as np\n",
      "import pandas as pd\n",
      "import statsmodels.api as sm\n",
      "import statsmodels.formula.api as smf\n",
      "import sqlite3\n",
      "from pandas.io import sql\n",
      "\n",
      "\n",
      "conn = sqlite3.connect('../data/enron.db')"
     ],
     "language": "python",
     "metadata": {},
     "outputs": [],
     "prompt_number": 1
    },
    {
     "cell_type": "markdown",
     "metadata": {},
     "source": [
      "###1. Create a boxplot of the message recipient count (MAX(rno)), splitting the data based on the seniority of the sender.\n"
     ]
    },
    {
     "cell_type": "code",
     "collapsed": false,
     "input": [
      "spammers = sql.frame_query(\"\"\"SELECT mid, MAX(rno) AS recipient_count, seniority \n",
      "    FROM EmployeeBase \n",
      "    JOIN MessageBase ON eid = from_eid \n",
      "    JOIN RecipientBase USING (mid)\n",
      "    GROUP BY mid\"\"\", conn, \"mid\")"
     ],
     "language": "python",
     "metadata": {},
     "outputs": [],
     "prompt_number": 2
    },
    {
     "cell_type": "markdown",
     "metadata": {},
     "source": [
      "###2. Compute the sample mean and standard deviation in the two groups.\n"
     ]
    },
    {
     "cell_type": "code",
     "collapsed": false,
     "input": [
      "spammers.groupby(spammers['seniority']).describe().unstack()"
     ],
     "language": "python",
     "metadata": {},
     "outputs": [
      {
       "html": [
        "<div style=\"max-height:1000px;max-width:1500px;overflow:auto;\">\n",
        "<table border=\"1\" class=\"dataframe\">\n",
        "  <thead>\n",
        "    <tr>\n",
        "      <th></th>\n",
        "      <th colspan=\"8\" halign=\"left\">recipient_count</th>\n",
        "    </tr>\n",
        "    <tr>\n",
        "      <th></th>\n",
        "      <th>count</th>\n",
        "      <th>mean</th>\n",
        "      <th>std</th>\n",
        "      <th>min</th>\n",
        "      <th>25%</th>\n",
        "      <th>50%</th>\n",
        "      <th>75%</th>\n",
        "      <th>max</th>\n",
        "    </tr>\n",
        "    <tr>\n",
        "      <th>seniority</th>\n",
        "      <th></th>\n",
        "      <th></th>\n",
        "      <th></th>\n",
        "      <th></th>\n",
        "      <th></th>\n",
        "      <th></th>\n",
        "      <th></th>\n",
        "      <th></th>\n",
        "    </tr>\n",
        "  </thead>\n",
        "  <tbody>\n",
        "    <tr>\n",
        "      <th>Junior</th>\n",
        "      <td>  9196</td>\n",
        "      <td> 1.728795</td>\n",
        "      <td> 1.533445</td>\n",
        "      <td> 1</td>\n",
        "      <td> 1</td>\n",
        "      <td> 1</td>\n",
        "      <td> 2</td>\n",
        "      <td> 24</td>\n",
        "    </tr>\n",
        "    <tr>\n",
        "      <th>Senior</th>\n",
        "      <td> 12439</td>\n",
        "      <td> 1.808023</td>\n",
        "      <td> 2.095937</td>\n",
        "      <td> 1</td>\n",
        "      <td> 1</td>\n",
        "      <td> 1</td>\n",
        "      <td> 2</td>\n",
        "      <td> 57</td>\n",
        "    </tr>\n",
        "  </tbody>\n",
        "</table>\n",
        "<p>2 rows \u00d7 8 columns</p>\n",
        "</div>"
       ],
       "metadata": {},
       "output_type": "pyout",
       "prompt_number": 3,
       "text": [
        "           recipient_count                                             \n",
        "                     count      mean       std  min  25%  50%  75%  max\n",
        "seniority                                                              \n",
        "Junior                9196  1.728795  1.533445    1    1    1    2   24\n",
        "Senior               12439  1.808023  2.095937    1    1    1    2   57\n",
        "\n",
        "[2 rows x 8 columns]"
       ]
      }
     ],
     "prompt_number": 3
    },
    {
     "cell_type": "code",
     "collapsed": false,
     "input": [
      "spammers.boxplot(column='recipient_count', by='seniority')"
     ],
     "language": "python",
     "metadata": {},
     "outputs": [
      {
       "metadata": {},
       "output_type": "pyout",
       "prompt_number": 4,
       "text": [
        "<matplotlib.axes.AxesSubplot at 0x10c02bd90>"
       ]
      },
      {
       "metadata": {},
       "output_type": "display_data",
       "png": "[encoded data removed]",
       "text": [
        "<matplotlib.figure.Figure at 0x102497150>"
       ]
      }
     ],
     "prompt_number": 4
    },
    {
     "cell_type": "markdown",
     "metadata": {},
     "source": [
      "###3. Create a histogram of the recipient count within each group.\n"
     ]
    },
    {
     "cell_type": "code",
     "collapsed": false,
     "input": [
      "spammers.recipient_count[spammers.seniority == 'Senior'].map(np.log).hist(alpha=.5)\n",
      "spammers.recipient_count[spammers.seniority == 'Junior'].map(np.log).hist(alpha=.5)"
     ],
     "language": "python",
     "metadata": {},
     "outputs": [
      {
       "metadata": {},
       "output_type": "pyout",
       "prompt_number": 5,
       "text": [
        "<matplotlib.axes.AxesSubplot at 0x10c466750>"
       ]
      },
      {
       "metadata": {},
       "output_type": "display_data",
       "png": "[encoded data removed]",
       "text": [
        "<matplotlib.figure.Figure at 0x10867da10>"
       ]
      }
     ],
     "prompt_number": 5
    },
    {
     "cell_type": "markdown",
     "metadata": {},
     "source": [
      "###4. Compute a 90% confidence interval for the difference in supervisor performance between the two groups. What is a problem with this? How might you fix it?\n"
     ]
    },
    {
     "cell_type": "code",
     "collapsed": false,
     "input": [
      "formula='recipient_count ~ seniority'\n",
      "mod1 = smf.glm(formula=formula, data=spammers).fit()\n",
      "mod1.summary(alpha = .1)"
     ],
     "language": "python",
     "metadata": {},
     "outputs": [
      {
       "html": [
        "<table class=\"simpletable\">\n",
        "<caption>Generalized Linear Model Regression Results</caption>\n",
        "<tr>\n",
        "  <th>Dep. Variable:</th>   <td>recipient_count</td> <th>  No. Observations:  </th>    <td> 21635</td>    \n",
        "</tr>\n",
        "<tr>\n",
        "  <th>Model:</th>                 <td>GLM</td>       <th>  Df Residuals:      </th>    <td> 21633</td>    \n",
        "</tr>\n",
        "<tr>\n",
        "  <th>Model Family:</th>       <td>Gaussian</td>     <th>  Df Model:          </th>    <td>     1</td>    \n",
        "</tr>\n",
        "<tr>\n",
        "  <th>Link Function:</th>      <td>identity</td>     <th>  Scale:             </th> <td>3.52522416398</td>\n",
        "</tr>\n",
        "<tr>\n",
        "  <th>Method:</th>               <td>IRLS</td>       <th>  Log-Likelihood:    </th>   <td> -44327.</td>   \n",
        "</tr>\n",
        "<tr>\n",
        "  <th>Date:</th>           <td>Sun, 18 May 2014</td> <th>  Deviance:          </th>   <td>  76261.</td>   \n",
        "</tr>\n",
        "<tr>\n",
        "  <th>Time:</th>               <td>23:12:15</td>     <th>  Pearson chi2:      </th>   <td>7.63e+04</td>   \n",
        "</tr>\n",
        "<tr>\n",
        "  <th>No. Iterations:</th>         <td>3</td>        <th>                     </th>       <td> </td>      \n",
        "</tr>\n",
        "</table>\n",
        "<table class=\"simpletable\">\n",
        "<tr>\n",
        "           <td></td>              <th>coef</th>     <th>std err</th>      <th>t</th>      <th>P>|t|</th> <th>[90.0% Conf. Int.]</th> \n",
        "</tr>\n",
        "<tr>\n",
        "  <th>Intercept</th>           <td>    1.7288</td> <td>    0.020</td> <td>   88.298</td> <td> 0.000</td> <td>    1.697     1.761</td>\n",
        "</tr>\n",
        "<tr>\n",
        "  <th>seniority[T.Senior]</th> <td>    0.0792</td> <td>    0.026</td> <td>    3.068</td> <td> 0.002</td> <td>    0.037     0.122</td>\n",
        "</tr>\n",
        "</table>"
       ],
       "metadata": {},
       "output_type": "pyout",
       "prompt_number": 6,
       "text": [
        "<class 'statsmodels.iolib.summary.Summary'>\n",
        "\"\"\"\n",
        "                 Generalized Linear Model Regression Results                  \n",
        "==============================================================================\n",
        "Dep. Variable:        recipient_count   No. Observations:                21635\n",
        "Model:                            GLM   Df Residuals:                    21633\n",
        "Model Family:                Gaussian   Df Model:                            1\n",
        "Link Function:               identity   Scale:                   3.52522416398\n",
        "Method:                          IRLS   Log-Likelihood:                -44327.\n",
        "Date:                Sun, 18 May 2014   Deviance:                       76261.\n",
        "Time:                        23:12:15   Pearson chi2:                 7.63e+04\n",
        "No. Iterations:                     3                                         \n",
        "=======================================================================================\n",
        "                          coef    std err          t      P>|t|      [90.0% Conf. Int.]\n",
        "---------------------------------------------------------------------------------------\n",
        "Intercept               1.7288      0.020     88.298      0.000         1.697     1.761\n",
        "seniority[T.Senior]     0.0792      0.026      3.068      0.002         0.037     0.122\n",
        "=======================================================================================\n",
        "\"\"\""
       ]
      }
     ],
     "prompt_number": 6
    },
    {
     "cell_type": "markdown",
     "metadata": {},
     "source": [
      "###5. At level \u03b1=5%, test the null hypothesis that the average supervisor performance does not differ between the two groups. What assumptions are you making? What can you conclude?\n"
     ]
    },
    {
     "cell_type": "code",
     "collapsed": false,
     "input": [
      "mod_senior = smf.glm(formula='recipient_count ~ seniority == \"Senior\"', data=spammers).fit()\n",
      "mod_senior.summary(alpha = .05)"
     ],
     "language": "python",
     "metadata": {},
     "outputs": [
      {
       "html": [
        "<table class=\"simpletable\">\n",
        "<caption>Generalized Linear Model Regression Results</caption>\n",
        "<tr>\n",
        "  <th>Dep. Variable:</th>   <td>recipient_count</td> <th>  No. Observations:  </th>    <td> 21635</td>    \n",
        "</tr>\n",
        "<tr>\n",
        "  <th>Model:</th>                 <td>GLM</td>       <th>  Df Residuals:      </th>    <td> 21633</td>    \n",
        "</tr>\n",
        "<tr>\n",
        "  <th>Model Family:</th>       <td>Gaussian</td>     <th>  Df Model:          </th>    <td>     1</td>    \n",
        "</tr>\n",
        "<tr>\n",
        "  <th>Link Function:</th>      <td>identity</td>     <th>  Scale:             </th> <td>3.52522416398</td>\n",
        "</tr>\n",
        "<tr>\n",
        "  <th>Method:</th>               <td>IRLS</td>       <th>  Log-Likelihood:    </th>   <td> -44327.</td>   \n",
        "</tr>\n",
        "<tr>\n",
        "  <th>Date:</th>           <td>Sun, 18 May 2014</td> <th>  Deviance:          </th>   <td>  76261.</td>   \n",
        "</tr>\n",
        "<tr>\n",
        "  <th>Time:</th>               <td>23:12:16</td>     <th>  Pearson chi2:      </th>   <td>7.63e+04</td>   \n",
        "</tr>\n",
        "<tr>\n",
        "  <th>No. Iterations:</th>         <td>3</td>        <th>                     </th>       <td> </td>      \n",
        "</tr>\n",
        "</table>\n",
        "<table class=\"simpletable\">\n",
        "<tr>\n",
        "                <td></td>                   <th>coef</th>     <th>std err</th>      <th>t</th>      <th>P>|t|</th> <th>[95.0% Conf. Int.]</th> \n",
        "</tr>\n",
        "<tr>\n",
        "  <th>Intercept</th>                     <td>    1.7288</td> <td>    0.020</td> <td>   88.298</td> <td> 0.000</td> <td>    1.690     1.767</td>\n",
        "</tr>\n",
        "<tr>\n",
        "  <th>seniority == \"Senior\"[T.True]</th> <td>    0.0792</td> <td>    0.026</td> <td>    3.068</td> <td> 0.002</td> <td>    0.029     0.130</td>\n",
        "</tr>\n",
        "</table>"
       ],
       "metadata": {},
       "output_type": "pyout",
       "prompt_number": 7,
       "text": [
        "<class 'statsmodels.iolib.summary.Summary'>\n",
        "\"\"\"\n",
        "                 Generalized Linear Model Regression Results                  \n",
        "==============================================================================\n",
        "Dep. Variable:        recipient_count   No. Observations:                21635\n",
        "Model:                            GLM   Df Residuals:                    21633\n",
        "Model Family:                Gaussian   Df Model:                            1\n",
        "Link Function:               identity   Scale:                   3.52522416398\n",
        "Method:                          IRLS   Log-Likelihood:                -44327.\n",
        "Date:                Sun, 18 May 2014   Deviance:                       76261.\n",
        "Time:                        23:12:16   Pearson chi2:                 7.63e+04\n",
        "No. Iterations:                     3                                         \n",
        "=================================================================================================\n",
        "                                    coef    std err          t      P>|t|      [95.0% Conf. Int.]\n",
        "-------------------------------------------------------------------------------------------------\n",
        "Intercept                         1.7288      0.020     88.298      0.000         1.690     1.767\n",
        "seniority == \"Senior\"[T.True]     0.0792      0.026      3.068      0.002         0.029     0.130\n",
        "=================================================================================================\n",
        "\"\"\""
       ]
      }
     ],
     "prompt_number": 7
    },
    {
     "cell_type": "code",
     "collapsed": false,
     "input": [
      "mod_junior = smf.glm(formula='recipient_count ~ seniority == \"Junior\"', data=spammers).fit()\n",
      "mod_junior.summary(alpha = .05)"
     ],
     "language": "python",
     "metadata": {},
     "outputs": [
      {
       "html": [
        "<table class=\"simpletable\">\n",
        "<caption>Generalized Linear Model Regression Results</caption>\n",
        "<tr>\n",
        "  <th>Dep. Variable:</th>   <td>recipient_count</td> <th>  No. Observations:  </th>    <td> 21635</td>    \n",
        "</tr>\n",
        "<tr>\n",
        "  <th>Model:</th>                 <td>GLM</td>       <th>  Df Residuals:      </th>    <td> 21633</td>    \n",
        "</tr>\n",
        "<tr>\n",
        "  <th>Model Family:</th>       <td>Gaussian</td>     <th>  Df Model:          </th>    <td>     1</td>    \n",
        "</tr>\n",
        "<tr>\n",
        "  <th>Link Function:</th>      <td>identity</td>     <th>  Scale:             </th> <td>3.52522416398</td>\n",
        "</tr>\n",
        "<tr>\n",
        "  <th>Method:</th>               <td>IRLS</td>       <th>  Log-Likelihood:    </th>   <td> -44327.</td>   \n",
        "</tr>\n",
        "<tr>\n",
        "  <th>Date:</th>           <td>Sun, 18 May 2014</td> <th>  Deviance:          </th>   <td>  76261.</td>   \n",
        "</tr>\n",
        "<tr>\n",
        "  <th>Time:</th>               <td>23:12:17</td>     <th>  Pearson chi2:      </th>   <td>7.63e+04</td>   \n",
        "</tr>\n",
        "<tr>\n",
        "  <th>No. Iterations:</th>         <td>3</td>        <th>                     </th>       <td> </td>      \n",
        "</tr>\n",
        "</table>\n",
        "<table class=\"simpletable\">\n",
        "<tr>\n",
        "                <td></td>                   <th>coef</th>     <th>std err</th>      <th>t</th>      <th>P>|t|</th> <th>[95.0% Conf. Int.]</th> \n",
        "</tr>\n",
        "<tr>\n",
        "  <th>Intercept</th>                     <td>    1.8080</td> <td>    0.017</td> <td>  107.400</td> <td> 0.000</td> <td>    1.775     1.841</td>\n",
        "</tr>\n",
        "<tr>\n",
        "  <th>seniority == \"Junior\"[T.True]</th> <td>   -0.0792</td> <td>    0.026</td> <td>   -3.068</td> <td> 0.002</td> <td>   -0.130    -0.029</td>\n",
        "</tr>\n",
        "</table>"
       ],
       "metadata": {},
       "output_type": "pyout",
       "prompt_number": 8,
       "text": [
        "<class 'statsmodels.iolib.summary.Summary'>\n",
        "\"\"\"\n",
        "                 Generalized Linear Model Regression Results                  \n",
        "==============================================================================\n",
        "Dep. Variable:        recipient_count   No. Observations:                21635\n",
        "Model:                            GLM   Df Residuals:                    21633\n",
        "Model Family:                Gaussian   Df Model:                            1\n",
        "Link Function:               identity   Scale:                   3.52522416398\n",
        "Method:                          IRLS   Log-Likelihood:                -44327.\n",
        "Date:                Sun, 18 May 2014   Deviance:                       76261.\n",
        "Time:                        23:12:17   Pearson chi2:                 7.63e+04\n",
        "No. Iterations:                     3                                         \n",
        "=================================================================================================\n",
        "                                    coef    std err          t      P>|t|      [95.0% Conf. Int.]\n",
        "-------------------------------------------------------------------------------------------------\n",
        "Intercept                         1.8080      0.017    107.400      0.000         1.775     1.841\n",
        "seniority == \"Junior\"[T.True]    -0.0792      0.026     -3.068      0.002        -0.130    -0.029\n",
        "=================================================================================================\n",
        "\"\"\""
       ]
      }
     ],
     "prompt_number": 8
    },
    {
     "cell_type": "markdown",
     "metadata": {},
     "source": [
      "###6. Repeat the test in 5. using OLS."
     ]
    },
    {
     "cell_type": "code",
     "collapsed": false,
     "input": [
      "mod_ols_senior = sm.OLS.from_formula('recipient_count ~ seniority == \"Senior\"', spammers).fit()\n",
      "mod_ols_senior.summary(alpha = .05)"
     ],
     "language": "python",
     "metadata": {},
     "outputs": [
      {
       "html": [
        "<table class=\"simpletable\">\n",
        "<caption>OLS Regression Results</caption>\n",
        "<tr>\n",
        "  <th>Dep. Variable:</th>     <td>recipient_count</td> <th>  R-squared:         </th> <td>   0.000</td> \n",
        "</tr>\n",
        "<tr>\n",
        "  <th>Model:</th>                   <td>OLS</td>       <th>  Adj. R-squared:    </th> <td>   0.000</td> \n",
        "</tr>\n",
        "<tr>\n",
        "  <th>Method:</th>             <td>Least Squares</td>  <th>  F-statistic:       </th> <td>   9.415</td> \n",
        "</tr>\n",
        "<tr>\n",
        "  <th>Date:</th>             <td>Sun, 18 May 2014</td> <th>  Prob (F-statistic):</th>  <td>0.00216</td> \n",
        "</tr>\n",
        "<tr>\n",
        "  <th>Time:</th>                 <td>23:12:18</td>     <th>  Log-Likelihood:    </th> <td> -44327.</td> \n",
        "</tr>\n",
        "<tr>\n",
        "  <th>No. Observations:</th>      <td> 21635</td>      <th>  AIC:               </th> <td>8.866e+04</td>\n",
        "</tr>\n",
        "<tr>\n",
        "  <th>Df Residuals:</th>          <td> 21633</td>      <th>  BIC:               </th> <td>8.867e+04</td>\n",
        "</tr>\n",
        "<tr>\n",
        "  <th>Df Model:</th>              <td>     1</td>      <th>                     </th>     <td> </td>    \n",
        "</tr>\n",
        "</table>\n",
        "<table class=\"simpletable\">\n",
        "<tr>\n",
        "                <td></td>                   <th>coef</th>     <th>std err</th>      <th>t</th>      <th>P>|t|</th> <th>[95.0% Conf. Int.]</th> \n",
        "</tr>\n",
        "<tr>\n",
        "  <th>Intercept</th>                     <td>    1.7288</td> <td>    0.020</td> <td>   88.298</td> <td> 0.000</td> <td>    1.690     1.767</td>\n",
        "</tr>\n",
        "<tr>\n",
        "  <th>seniority == \"Senior\"[T.True]</th> <td>    0.0792</td> <td>    0.026</td> <td>    3.068</td> <td> 0.002</td> <td>    0.029     0.130</td>\n",
        "</tr>\n",
        "</table>\n",
        "<table class=\"simpletable\">\n",
        "<tr>\n",
        "  <th>Omnibus:</th>       <td>30503.915</td> <th>  Durbin-Watson:     </th>   <td>   1.886</td>  \n",
        "</tr>\n",
        "<tr>\n",
        "  <th>Prob(Omnibus):</th>  <td> 0.000</td>   <th>  Jarque-Bera (JB):  </th> <td>21990988.515</td>\n",
        "</tr>\n",
        "<tr>\n",
        "  <th>Skew:</th>           <td> 7.994</td>   <th>  Prob(JB):          </th>   <td>    0.00</td>  \n",
        "</tr>\n",
        "<tr>\n",
        "  <th>Kurtosis:</th>       <td>158.368</td>  <th>  Cond. No.          </th>   <td>    2.83</td>  \n",
        "</tr>\n",
        "</table>"
       ],
       "metadata": {},
       "output_type": "pyout",
       "prompt_number": 9,
       "text": [
        "<class 'statsmodels.iolib.summary.Summary'>\n",
        "\"\"\"\n",
        "                            OLS Regression Results                            \n",
        "==============================================================================\n",
        "Dep. Variable:        recipient_count   R-squared:                       0.000\n",
        "Model:                            OLS   Adj. R-squared:                  0.000\n",
        "Method:                 Least Squares   F-statistic:                     9.415\n",
        "Date:                Sun, 18 May 2014   Prob (F-statistic):            0.00216\n",
        "Time:                        23:12:18   Log-Likelihood:                -44327.\n",
        "No. Observations:               21635   AIC:                         8.866e+04\n",
        "Df Residuals:                   21633   BIC:                         8.867e+04\n",
        "Df Model:                           1                                         \n",
        "=================================================================================================\n",
        "                                    coef    std err          t      P>|t|      [95.0% Conf. Int.]\n",
        "-------------------------------------------------------------------------------------------------\n",
        "Intercept                         1.7288      0.020     88.298      0.000         1.690     1.767\n",
        "seniority == \"Senior\"[T.True]     0.0792      0.026      3.068      0.002         0.029     0.130\n",
        "==============================================================================\n",
        "Omnibus:                    30503.915   Durbin-Watson:                   1.886\n",
        "Prob(Omnibus):                  0.000   Jarque-Bera (JB):         21990988.515\n",
        "Skew:                           7.994   Prob(JB):                         0.00\n",
        "Kurtosis:                     158.368   Cond. No.                         2.83\n",
        "==============================================================================\n",
        "\"\"\""
       ]
      }
     ],
     "prompt_number": 9
    },
    {
     "cell_type": "code",
     "collapsed": false,
     "input": [
      "mod_ols_junior = sm.OLS.from_formula('recipient_count ~ seniority == \"Junior\"', spammers).fit()\n",
      "mod_ols_junior.summary(alpha = .05)"
     ],
     "language": "python",
     "metadata": {},
     "outputs": [
      {
       "html": [
        "<table class=\"simpletable\">\n",
        "<caption>OLS Regression Results</caption>\n",
        "<tr>\n",
        "  <th>Dep. Variable:</th>     <td>recipient_count</td> <th>  R-squared:         </th> <td>   0.000</td> \n",
        "</tr>\n",
        "<tr>\n",
        "  <th>Model:</th>                   <td>OLS</td>       <th>  Adj. R-squared:    </th> <td>   0.000</td> \n",
        "</tr>\n",
        "<tr>\n",
        "  <th>Method:</th>             <td>Least Squares</td>  <th>  F-statistic:       </th> <td>   9.415</td> \n",
        "</tr>\n",
        "<tr>\n",
        "  <th>Date:</th>             <td>Sun, 18 May 2014</td> <th>  Prob (F-statistic):</th>  <td>0.00216</td> \n",
        "</tr>\n",
        "<tr>\n",
        "  <th>Time:</th>                 <td>23:12:19</td>     <th>  Log-Likelihood:    </th> <td> -44327.</td> \n",
        "</tr>\n",
        "<tr>\n",
        "  <th>No. Observations:</th>      <td> 21635</td>      <th>  AIC:               </th> <td>8.866e+04</td>\n",
        "</tr>\n",
        "<tr>\n",
        "  <th>Df Residuals:</th>          <td> 21633</td>      <th>  BIC:               </th> <td>8.867e+04</td>\n",
        "</tr>\n",
        "<tr>\n",
        "  <th>Df Model:</th>              <td>     1</td>      <th>                     </th>     <td> </td>    \n",
        "</tr>\n",
        "</table>\n",
        "<table class=\"simpletable\">\n",
        "<tr>\n",
        "                <td></td>                   <th>coef</th>     <th>std err</th>      <th>t</th>      <th>P>|t|</th> <th>[95.0% Conf. Int.]</th> \n",
        "</tr>\n",
        "<tr>\n",
        "  <th>Intercept</th>                     <td>    1.8080</td> <td>    0.017</td> <td>  107.400</td> <td> 0.000</td> <td>    1.775     1.841</td>\n",
        "</tr>\n",
        "<tr>\n",
        "  <th>seniority == \"Junior\"[T.True]</th> <td>   -0.0792</td> <td>    0.026</td> <td>   -3.068</td> <td> 0.002</td> <td>   -0.130    -0.029</td>\n",
        "</tr>\n",
        "</table>\n",
        "<table class=\"simpletable\">\n",
        "<tr>\n",
        "  <th>Omnibus:</th>       <td>30503.915</td> <th>  Durbin-Watson:     </th>   <td>   1.886</td>  \n",
        "</tr>\n",
        "<tr>\n",
        "  <th>Prob(Omnibus):</th>  <td> 0.000</td>   <th>  Jarque-Bera (JB):  </th> <td>21990988.515</td>\n",
        "</tr>\n",
        "<tr>\n",
        "  <th>Skew:</th>           <td> 7.994</td>   <th>  Prob(JB):          </th>   <td>    0.00</td>  \n",
        "</tr>\n",
        "<tr>\n",
        "  <th>Kurtosis:</th>       <td>158.368</td>  <th>  Cond. No.          </th>   <td>    2.48</td>  \n",
        "</tr>\n",
        "</table>"
       ],
       "metadata": {},
       "output_type": "pyout",
       "prompt_number": 10,
       "text": [
        "<class 'statsmodels.iolib.summary.Summary'>\n",
        "\"\"\"\n",
        "                            OLS Regression Results                            \n",
        "==============================================================================\n",
        "Dep. Variable:        recipient_count   R-squared:                       0.000\n",
        "Model:                            OLS   Adj. R-squared:                  0.000\n",
        "Method:                 Least Squares   F-statistic:                     9.415\n",
        "Date:                Sun, 18 May 2014   Prob (F-statistic):            0.00216\n",
        "Time:                        23:12:19   Log-Likelihood:                -44327.\n",
        "No. Observations:               21635   AIC:                         8.866e+04\n",
        "Df Residuals:                   21633   BIC:                         8.867e+04\n",
        "Df Model:                           1                                         \n",
        "=================================================================================================\n",
        "                                    coef    std err          t      P>|t|      [95.0% Conf. Int.]\n",
        "-------------------------------------------------------------------------------------------------\n",
        "Intercept                         1.8080      0.017    107.400      0.000         1.775     1.841\n",
        "seniority == \"Junior\"[T.True]    -0.0792      0.026     -3.068      0.002        -0.130    -0.029\n",
        "==============================================================================\n",
        "Omnibus:                    30503.915   Durbin-Watson:                   1.886\n",
        "Prob(Omnibus):                  0.000   Jarque-Bera (JB):         21990988.515\n",
        "Skew:                           7.994   Prob(JB):                         0.00\n",
        "Kurtosis:                     158.368   Cond. No.                         2.48\n",
        "==============================================================================\n",
        "\"\"\""
       ]
      }
     ],
     "prompt_number": 10
    },
    {
     "cell_type": "code",
     "collapsed": false,
     "input": [],
     "language": "python",
     "metadata": {},
     "outputs": []
    }
   ],
   "metadata": {}
  }
 ]
}